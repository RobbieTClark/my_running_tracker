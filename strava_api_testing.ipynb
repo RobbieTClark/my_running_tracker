{
 "cells": [
  {
   "cell_type": "code",
   "execution_count": 1,
   "id": "cbe52b5b",
   "metadata": {},
   "outputs": [],
   "source": [
    "import pandas as pd\n",
    "import requests\n",
    "import urllib3\n",
    "from datetime import date\n",
    "urllib3.disable_warnings(urllib3.exceptions.InsecureRequestWarning)"
   ]
  },
  {
   "cell_type": "code",
   "execution_count": 2,
   "id": "d5bf84e5",
   "metadata": {},
   "outputs": [],
   "source": [
    "auth_url = \"https://www.strava.com/oauth/token\"\n",
    "athlete_url = \"https://www.strava.com/api/v3/athlete\""
   ]
  },
  {
   "cell_type": "code",
   "execution_count": 22,
   "id": "35195489",
   "metadata": {},
   "outputs": [],
   "source": [
    "# Get my user info for payload\n",
    "\n",
    "user_info_file = 'my_info.csv'\n",
    "\n",
    "try: my_info = pd.read_csv(user_info_file) \n",
    "except OSError: \n",
    "    print(f'Could not open {user_info_file} required to access client_id, client_secret, and refresh token')"
   ]
  },
  {
   "cell_type": "code",
   "execution_count": 12,
   "id": "6c32720f",
   "metadata": {},
   "outputs": [],
   "source": [
    "payload = {\n",
    "    'client_id': my_info['client_id'][0],\n",
    "    'client_secret': my_info['client_secret'][0],\n",
    "    'refresh_token': my_info['refresh_token'][0],\n",
    "    'grant_type': \"refresh_token\",\n",
    "    'f': 'json'\n",
    "}"
   ]
  },
  {
   "cell_type": "code",
   "execution_count": 13,
   "id": "97633d46",
   "metadata": {},
   "outputs": [
    {
     "name": "stdout",
     "output_type": "stream",
     "text": [
      "Distance run this year: 591 km\n"
     ]
    }
   ],
   "source": [
    "# Get distance run from strava (year-to-date)\n",
    "\n",
    "res = requests.post(auth_url, data=payload, verify=False)\n",
    "access_token = res.json()['access_token']\n",
    "\n",
    "header = {'Authorization': 'Bearer ' + access_token}\n",
    "param = {'per_page': 200, 'page': 1}\n",
    "my_dataset = requests.get(athlete_url, headers=header, params=param).json()\n",
    "\n",
    "id_ = my_dataset['id']\n",
    "stats_url = f\"https://www.strava.com/api/v3/athletes/{id_}/stats\"\n",
    "\n",
    "activity_stats = requests.get(stats_url, headers=header, params=param).json()\n",
    "\n",
    "ytd_run_totals = activity_stats['ytd_run_totals']\n",
    "ytd_run_dist = ytd_run_totals['distance']/1000\n",
    "\n",
    "print(f'Distance run this year: {round(ytd_run_dist)} km')"
   ]
  },
  {
   "cell_type": "code",
   "execution_count": 14,
   "id": "a8e584a3",
   "metadata": {},
   "outputs": [
    {
     "name": "stdout",
     "output_type": "stream",
     "text": [
      "Number of days passed: 132\n"
     ]
    }
   ],
   "source": [
    "# Calculate how many days have passed this year\n",
    "\n",
    "year = date.today().year\n",
    "month = date.today().month\n",
    "day = date.today().day\n",
    "\n",
    "num_days_passed = date(year,month,day) - date(year,1,1)\n",
    "num_days_passed = num_days_passed.days + 1\n",
    "\n",
    "print(f'Number of days passed: {num_days_passed}')"
   ]
  },
  {
   "cell_type": "code",
   "execution_count": 15,
   "id": "3be746e1",
   "metadata": {},
   "outputs": [
    {
     "name": "stdout",
     "output_type": "stream",
     "text": [
      "Your goal is 1600 km for the year\n",
      "You are: Ahead\n",
      "Current average distance per day: 4.47 km, resulting in 1632 km\n",
      "Required average distance per day: 4.38 km\n"
     ]
    }
   ],
   "source": [
    "# Calculate if on track\n",
    "\n",
    "year_goal = 1600 # 1600 km = 1000 miles\n",
    "avg_dist_required = round(year_goal/365,2) # Average distance per day to meet goal\n",
    "\n",
    "avg_dist_current = round(ytd_run_dist/num_days_passed,2)\n",
    "\n",
    "print(f'Your goal is {year_goal} km for the year')\n",
    "\n",
    "print('You are: ', end = '')\n",
    "if avg_dist_current == avg_dist_required:\n",
    "    print('On track')\n",
    "elif avg_dist_current > avg_dist_required:\n",
    "    print('Ahead')\n",
    "else:\n",
    "    print('Behind')\n",
    "\n",
    "print(f'Current average distance per day: {avg_dist_current} km, resulting in {round(avg_dist_current*365)} km')\n",
    "print(f'Required average distance per day: {avg_dist_required} km')\n",
    "\n"
   ]
  },
  {
   "cell_type": "code",
   "execution_count": 102,
   "id": "8d184667",
   "metadata": {},
   "outputs": [
    {
     "name": "stdout",
     "output_type": "stream",
     "text": [
      "To get back on track you need to run 15 km in the next 1 days\n"
     ]
    }
   ],
   "source": [
    "# Calculate what is required to catch up \n",
    "\n",
    "catchup_time = 1 # In days\n",
    "\n",
    "days_inc_catchup = num_days_passed + catchup_time\n",
    "\n",
    "required_catchup_dist = round(catchup_time*avg_dist_required + (avg_dist_required - avg_dist_current)*num_days_passed)\n",
    "\n",
    "print(f'To get back on track you need to run {required_catchup_dist} km in the next {catchup_time} days')"
   ]
  },
  {
   "cell_type": "code",
   "execution_count": null,
   "id": "5a5579ed",
   "metadata": {},
   "outputs": [],
   "source": []
  }
 ],
 "metadata": {
  "kernelspec": {
   "display_name": "Python 3 (ipykernel)",
   "language": "python",
   "name": "python3"
  },
  "language_info": {
   "codemirror_mode": {
    "name": "ipython",
    "version": 3
   },
   "file_extension": ".py",
   "mimetype": "text/x-python",
   "name": "python",
   "nbconvert_exporter": "python",
   "pygments_lexer": "ipython3",
   "version": "3.10.7"
  }
 },
 "nbformat": 4,
 "nbformat_minor": 5
}
